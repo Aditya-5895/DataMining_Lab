{
 "cells": [
  {
   "cell_type": "code",
   "execution_count": 1,
   "metadata": {},
   "outputs": [],
   "source": [
    "import pandas as pd\n",
    "import numpy as np\n",
    "import matplotlib.pyplot as plt"
   ]
  },
  {
   "cell_type": "code",
   "execution_count": 2,
   "metadata": {},
   "outputs": [],
   "source": [
    "data_1 = pd.read_csv(\"data1.csv\",header = None)\n",
    "data_2 = pd.read_csv(\"data2.csv\",header = None)"
   ]
  },
  {
   "cell_type": "code",
   "execution_count": 3,
   "metadata": {
    "scrolled": true
   },
   "outputs": [
    {
     "data": {
      "text/html": [
       "<div>\n",
       "<style scoped>\n",
       "    .dataframe tbody tr th:only-of-type {\n",
       "        vertical-align: middle;\n",
       "    }\n",
       "\n",
       "    .dataframe tbody tr th {\n",
       "        vertical-align: top;\n",
       "    }\n",
       "\n",
       "    .dataframe thead th {\n",
       "        text-align: right;\n",
       "    }\n",
       "</style>\n",
       "<table border=\"1\" class=\"dataframe\">\n",
       "  <thead>\n",
       "    <tr style=\"text-align: right;\">\n",
       "      <th></th>\n",
       "      <th>0</th>\n",
       "      <th>1</th>\n",
       "    </tr>\n",
       "  </thead>\n",
       "  <tbody>\n",
       "    <tr>\n",
       "      <th>0</th>\n",
       "      <td>0.10966</td>\n",
       "      <td>1.13380</td>\n",
       "    </tr>\n",
       "    <tr>\n",
       "      <th>1</th>\n",
       "      <td>1.12870</td>\n",
       "      <td>4.70060</td>\n",
       "    </tr>\n",
       "    <tr>\n",
       "      <th>2</th>\n",
       "      <td>-0.28996</td>\n",
       "      <td>-0.26487</td>\n",
       "    </tr>\n",
       "    <tr>\n",
       "      <th>3</th>\n",
       "      <td>1.26160</td>\n",
       "      <td>5.16540</td>\n",
       "    </tr>\n",
       "    <tr>\n",
       "      <th>4</th>\n",
       "      <td>0.47542</td>\n",
       "      <td>2.41400</td>\n",
       "    </tr>\n",
       "  </tbody>\n",
       "</table>\n",
       "</div>"
      ],
      "text/plain": [
       "         0        1\n",
       "0  0.10966  1.13380\n",
       "1  1.12870  4.70060\n",
       "2 -0.28996 -0.26487\n",
       "3  1.26160  5.16540\n",
       "4  0.47542  2.41400"
      ]
     },
     "execution_count": 3,
     "metadata": {},
     "output_type": "execute_result"
    }
   ],
   "source": [
    "data_1.head()"
   ]
  },
  {
   "cell_type": "code",
   "execution_count": 4,
   "metadata": {},
   "outputs": [],
   "source": [
    "def normalise(data):\n",
    "    data = (data - data.min()) / (data.max() - data.min())\n",
    "    return data"
   ]
  },
  {
   "cell_type": "code",
   "execution_count": 5,
   "metadata": {},
   "outputs": [],
   "source": [
    "def get_xy(data):\n",
    "    data = np.array(data)\n",
    "    n = len(data[0])\n",
    "    x = data[:,:n-1]\n",
    "    y = data[:,n-1]\n",
    "    return x,y"
   ]
  },
  {
   "cell_type": "code",
   "execution_count": 6,
   "metadata": {},
   "outputs": [],
   "source": [
    "def hold_out(x,y,test_size):\n",
    "    n = len(y)\n",
    "    train_index = int(n*(1-test_size))\n",
    "    x_train = x[:train_index,:]\n",
    "    x_test = x[train_index:,:]\n",
    "    y_train = y[:train_index]\n",
    "    y_test = y[train_index:]\n",
    "    return x_train, y_train ,x_test , y_test"
   ]
  },
  {
   "cell_type": "code",
   "execution_count": 7,
   "metadata": {},
   "outputs": [],
   "source": [
    "def i_of_k_fold(x,i,k):\n",
    "    n = len(x)\n",
    "    l = list(range(n))\n",
    "    train_index = l[0:n*(i-1)//k] + l[(n*i)//k:n]\n",
    "    test_index = l[n*(i-1)//k : (n*i)//k ]\n",
    "    return train_index , test_index"
   ]
  },
  {
   "cell_type": "code",
   "execution_count": 8,
   "metadata": {},
   "outputs": [],
   "source": [
    "def gradient_decent(x,y,learning_rate,iteration):\n",
    "    eps = 10**-2\n",
    "    n= len(x[0])\n",
    "    w = [0]*n\n",
    "    w0 = 0\n",
    "    m = len(x)\n",
    "    w_list = [ ]\n",
    "    for i in range(iteration):\n",
    "        y_predicted = np.dot(x,w)+w0\n",
    "        dy = y_predicted - y\n",
    "        dw0 = np.sum(dy)\n",
    "        dw = (1/m)*np.dot(dy,x)\n",
    "        w = w - learning_rate*dw\n",
    "        w0 = w0 -learning_rate*dw0\n",
    "    return w,w0"
   ]
  },
  {
   "cell_type": "code",
   "execution_count": 13,
   "metadata": {},
   "outputs": [],
   "source": [
    "def linear_reg(x,y,learning_rate,iteration):\n",
    "    eps = 10**-10\n",
    "    n= len(x[0])\n",
    "    w = [0]*n\n",
    "    w0 = 0\n",
    "    m = len(x)\n",
    "    cost_list = [ ]\n",
    "    w_list = [ ]\n",
    "    for i in range(iteration):\n",
    "        y_predicted = np.dot(x,w)+w0\n",
    "        cost = (1/(2*m))* np.sum(np.square(y-y_predicted))\n",
    "        cost_list.append(cost)\n",
    "        dy = y_predicted - y\n",
    "        dw0 = np.sum(dy)\n",
    "        dw = (1/m)*np.dot(dy,x)\n",
    "        w = w - learning_rate*dw\n",
    "        w0 = w0 -learning_rate*dw0\n",
    "        w_list.append(list(w)+[w0])\n",
    "        if cost <eps:\n",
    "            break\n",
    "    print(f\"Final Values :\\n w = {w} w0 = {w0} cost = {cost} \")\n",
    "    return cost_list,w_list,w,w0"
   ]
  },
  {
   "cell_type": "markdown",
   "metadata": {},
   "source": [
    "## 1(d)Describe the cross validation techniques used...\n",
    "#### As we have to performe Kfold-cross validation Technique before LinearRegrssion so I am answering This Question Here.."
   ]
  },
  {
   "cell_type": "code",
   "execution_count": 10,
   "metadata": {},
   "outputs": [],
   "source": [
    "## Mean error function is for determine the avarage error between predicted data and actual data.\n",
    "def mean_error(x_test,y_test,w,w0):\n",
    "    y_predicted = np.dot(x_test,w) + w0\n",
    "    error = (1/len(x_test))*np.sum(np.square(y_predicted - y_test))\n",
    "    return error"
   ]
  },
  {
   "cell_type": "markdown",
   "metadata": {},
   "source": [
    "### Kfold cross validation for finding hyperparameter"
   ]
  },
  {
   "cell_type": "code",
   "execution_count": 11,
   "metadata": {},
   "outputs": [],
   "source": [
    "def k_fold(x_train,y_train,k):\n",
    "    learning_rate_range = [10**i for i in range(-5,3)]\n",
    "    mean_error_coresponding_to_LearningRate = dict()\n",
    "    for lr in learning_rate_range:\n",
    "        each_fold_error = [ ]\n",
    "        for i in range(1,k+1):\n",
    "            train_index , test_index = i_of_k_fold(x_train,i,k)\n",
    "            w,w0 = gradient_decent(x_train[train_index],y_train[train_index],lr,iteration = 30)\n",
    "            each_fold_error.append(mean_error(x_train[test_index],y_train[test_index],w,w0))\n",
    "\n",
    "        mean_error_coresponding_to_LearningRate[lr] = sum(each_fold_error)/len(each_fold_error)\n",
    "    return mean_error_coresponding_to_LearningRate"
   ]
  },
  {
   "cell_type": "markdown",
   "metadata": {},
   "source": []
  },
  {
   "cell_type": "markdown",
   "metadata": {},
   "source": [
    "## 1. Analysing data1"
   ]
  },
  {
   "cell_type": "code",
   "execution_count": 12,
   "metadata": {
    "scrolled": true
   },
   "outputs": [
    {
     "data": {
      "text/plain": [
       "{1e-05: 11.198438161191849,\n",
       " 0.0001: 10.830238293542479,\n",
       " 0.001: 10.054910267155021,\n",
       " 0.01: 6.359717796244741,\n",
       " 0.1: 5.361575087885115e+63,\n",
       " 1: 4.7467381874358936e+125,\n",
       " 10: 7.300230888164399e+185,\n",
       " 100: 7.62003868339306e+245}"
      ]
     },
     "execution_count": 12,
     "metadata": {},
     "output_type": "execute_result"
    }
   ],
   "source": [
    "x,y = get_xy(data_1)  ## Separate x and y value from data\n",
    "x_train, y_train ,x_test , y_test = hold_out(x,y,0.3)  ## spliting into train and test data (holdout method).\n",
    "##finding avarage error with respect to each learning rate\n",
    "mean_error_coresponding_to_LearningRate = k_fold(x_train,y_train,10)  \n",
    "mean_error_coresponding_to_LearningRate"
   ]
  },
  {
   "cell_type": "markdown",
   "metadata": {},
   "source": [
    "### Here we got minimum error at 0.01 learning rate , So we can conclude optimal learning rate should be near 0.01"
   ]
  },
  {
   "cell_type": "markdown",
   "metadata": {},
   "source": [
    "### Apply Linear Regression"
   ]
  },
  {
   "cell_type": "code",
   "execution_count": 14,
   "metadata": {
    "scrolled": true
   },
   "outputs": [
    {
     "name": "stdout",
     "output_type": "stream",
     "text": [
      "Final Values :\n",
      " w = [3.4993796] w0 = 0.7500210439207416 cost = 1.7225646647001432e-07 \n"
     ]
    }
   ],
   "source": [
    "cost_list_d1,w_list_d1,w_d1,w0_d1 = linear_reg(x_train,y_train,0.01,1000)"
   ]
  },
  {
   "cell_type": "markdown",
   "metadata": {},
   "source": [
    "### Testing model Performance"
   ]
  },
  {
   "cell_type": "code",
   "execution_count": 15,
   "metadata": {},
   "outputs": [
    {
     "data": {
      "text/plain": [
       "3.101123867342219e-07"
      ]
     },
     "execution_count": 15,
     "metadata": {},
     "output_type": "execute_result"
    }
   ],
   "source": [
    "error = mean_error(x_test,y_test,w_d1,w0_d1)\n",
    "error"
   ]
  },
  {
   "cell_type": "markdown",
   "metadata": {},
   "source": [
    "#### As error is very less we can say our model is good"
   ]
  },
  {
   "cell_type": "markdown",
   "metadata": {},
   "source": [
    "## Analysing data2"
   ]
  },
  {
   "cell_type": "code",
   "execution_count": 16,
   "metadata": {},
   "outputs": [
    {
     "data": {
      "text/html": [
       "<div>\n",
       "<style scoped>\n",
       "    .dataframe tbody tr th:only-of-type {\n",
       "        vertical-align: middle;\n",
       "    }\n",
       "\n",
       "    .dataframe tbody tr th {\n",
       "        vertical-align: top;\n",
       "    }\n",
       "\n",
       "    .dataframe thead th {\n",
       "        text-align: right;\n",
       "    }\n",
       "</style>\n",
       "<table border=\"1\" class=\"dataframe\">\n",
       "  <thead>\n",
       "    <tr style=\"text-align: right;\">\n",
       "      <th></th>\n",
       "      <th>0</th>\n",
       "      <th>1</th>\n",
       "      <th>2</th>\n",
       "    </tr>\n",
       "  </thead>\n",
       "  <tbody>\n",
       "    <tr>\n",
       "      <th>0</th>\n",
       "      <td>95</td>\n",
       "      <td>125</td>\n",
       "      <td>35</td>\n",
       "    </tr>\n",
       "    <tr>\n",
       "      <th>1</th>\n",
       "      <td>583</td>\n",
       "      <td>181</td>\n",
       "      <td>1387</td>\n",
       "    </tr>\n",
       "    <tr>\n",
       "      <th>2</th>\n",
       "      <td>575</td>\n",
       "      <td>283</td>\n",
       "      <td>1159</td>\n",
       "    </tr>\n",
       "    <tr>\n",
       "      <th>3</th>\n",
       "      <td>292</td>\n",
       "      <td>139</td>\n",
       "      <td>598</td>\n",
       "    </tr>\n",
       "    <tr>\n",
       "      <th>4</th>\n",
       "      <td>481</td>\n",
       "      <td>507</td>\n",
       "      <td>429</td>\n",
       "    </tr>\n",
       "  </tbody>\n",
       "</table>\n",
       "</div>"
      ],
      "text/plain": [
       "     0    1     2\n",
       "0   95  125    35\n",
       "1  583  181  1387\n",
       "2  575  283  1159\n",
       "3  292  139   598\n",
       "4  481  507   429"
      ]
     },
     "execution_count": 16,
     "metadata": {},
     "output_type": "execute_result"
    }
   ],
   "source": [
    "data_2.head()"
   ]
  },
  {
   "cell_type": "code",
   "execution_count": 17,
   "metadata": {},
   "outputs": [
    {
     "name": "stderr",
     "output_type": "stream",
     "text": [
      "C:\\Users\\adity_000\\anaconda3\\lib\\site-packages\\ipykernel_launcher.py:4: RuntimeWarning: overflow encountered in square\n",
      "  after removing the cwd from sys.path.\n"
     ]
    },
    {
     "data": {
      "text/plain": [
       "{1e-05: 2390638.025254215,\n",
       " 0.0001: 2.5819400839898358e+82,\n",
       " 0.001: 3.848147105634365e+143,\n",
       " 0.01: 5.008926908894051e+203,\n",
       " 0.1: 5.142408080565869e+263,\n",
       " 1: inf,\n",
       " 10: inf,\n",
       " 100: inf}"
      ]
     },
     "execution_count": 17,
     "metadata": {},
     "output_type": "execute_result"
    }
   ],
   "source": [
    "x,y = get_xy(data_2)  ## Separate x and y value from data\n",
    "x_train, y_train ,x_test , y_test = hold_out(x,y,0.3)  ## spliting into train and test data (holdout method).\n",
    "##finding avarage error with respect to each learning rate\n",
    "mean_error_coresponding_to_LearningRate = k_fold(x_train,y_train,10)  \n",
    "mean_error_coresponding_to_LearningRate"
   ]
  },
  {
   "cell_type": "markdown",
   "metadata": {},
   "source": [
    "#### Here we are getting huge error so have to normalise the data.."
   ]
  },
  {
   "cell_type": "code",
   "execution_count": 18,
   "metadata": {},
   "outputs": [
    {
     "data": {
      "text/plain": [
       "{1e-05: 0.3256728908793096,\n",
       " 0.0001: 0.19487202048661056,\n",
       " 0.001: 0.06287867894580937,\n",
       " 0.01: 0.05997033235595887,\n",
       " 0.1: 2.6762974201214317e+63,\n",
       " 1: 2.3282259581939364e+125,\n",
       " 10: 3.574908887684177e+185,\n",
       " 100: 3.7309202087440696e+245}"
      ]
     },
     "execution_count": 18,
     "metadata": {},
     "output_type": "execute_result"
    }
   ],
   "source": [
    "n_data_2 = normalise(data_2)\n",
    "x,y = get_xy(n_data_2)  ## Separate x and y value from data\n",
    "x_train, y_train ,x_test , y_test = hold_out(x,y,0.3)  ## spliting into train and test data (holdout method).\n",
    "##finding avarage error with respect to each learning rate\n",
    "mean_error_coresponding_to_LearningRate = k_fold(x_train,y_train,10)  \n",
    "mean_error_coresponding_to_LearningRate"
   ]
  },
  {
   "cell_type": "markdown",
   "metadata": {},
   "source": [
    "#### Here we are getting minimum error coresponding to 0.01 learning rate.."
   ]
  },
  {
   "cell_type": "markdown",
   "metadata": {},
   "source": [
    "## Apply linear regression"
   ]
  },
  {
   "cell_type": "code",
   "execution_count": 19,
   "metadata": {
    "scrolled": false
   },
   "outputs": [
    {
     "name": "stdout",
     "output_type": "stream",
     "text": [
      "Final Values :\n",
      " w = [ 0.45969008 -0.29860415] w0 = 0.44942888665458974 cost = 0.003864695024520081 \n"
     ]
    }
   ],
   "source": [
    "cost_list_d2,w_list_d2,w_d2,w0_d2 = linear_reg(x_train,y_train,0.012,1000)"
   ]
  },
  {
   "cell_type": "markdown",
   "metadata": {},
   "source": [
    "### Testing model Performance"
   ]
  },
  {
   "cell_type": "code",
   "execution_count": 20,
   "metadata": {},
   "outputs": [
    {
     "data": {
      "text/plain": [
       "0.006343932870273018"
      ]
     },
     "execution_count": 20,
     "metadata": {},
     "output_type": "execute_result"
    }
   ],
   "source": [
    "error_d2 = mean_error(x_test,y_test,w_d2,w0_d2)\n",
    "error_d2"
   ]
  },
  {
   "cell_type": "markdown",
   "metadata": {},
   "source": [
    "Error is less so we can say our model is accurate"
   ]
  },
  {
   "cell_type": "markdown",
   "metadata": {},
   "source": [
    "# Assignment"
   ]
  },
  {
   "cell_type": "markdown",
   "metadata": {},
   "source": [
    "### 1(a) Plot J(w ) against iteration"
   ]
  },
  {
   "cell_type": "markdown",
   "metadata": {},
   "source": [
    "###   For data1"
   ]
  },
  {
   "cell_type": "code",
   "execution_count": 21,
   "metadata": {
    "scrolled": true
   },
   "outputs": [
    {
     "data": {
      "text/plain": [
       "[<matplotlib.lines.Line2D at 0x2ecd8eabc8>]"
      ]
     },
     "execution_count": 21,
     "metadata": {},
     "output_type": "execute_result"
    },
    {
     "data": {
      "image/png": "[encoded data removed]",
      "text/plain": [
       "<Figure size 432x288 with 1 Axes>"
      ]
     },
     "metadata": {
      "needs_background": "light"
     },
     "output_type": "display_data"
    }
   ],
   "source": [
    "i = list(range(len(cost_list_d1)))\n",
    "plt.plot(i,cost_list_d1)"
   ]
  },
  {
   "cell_type": "markdown",
   "metadata": {},
   "source": [
    "### For data 2"
   ]
  },
  {
   "cell_type": "code",
   "execution_count": 22,
   "metadata": {
    "scrolled": true
   },
   "outputs": [
    {
     "data": {
      "text/plain": [
       "[<matplotlib.lines.Line2D at 0x2ece277a88>]"
      ]
     },
     "execution_count": 22,
     "metadata": {},
     "output_type": "execute_result"
    },
    {
     "data": {
      "image/png": "[encoded data removed]",
      "text/plain": [
       "<Figure size 432x288 with 1 Axes>"
      ]
     },
     "metadata": {
      "needs_background": "light"
     },
     "output_type": "display_data"
    }
   ],
   "source": [
    "i = list(range(len(cost_list_d2)))\n",
    "plt.plot(i,cost_list_d2)"
   ]
  },
  {
   "cell_type": "markdown",
   "metadata": {},
   "source": [
    "### 1(b) Plot J(w ) against w for data1."
   ]
  },
  {
   "cell_type": "code",
   "execution_count": 11,
   "metadata": {
    "scrolled": true
   },
   "outputs": [
    {
     "data": {
      "text/plain": [
       "[]"
      ]
     },
     "execution_count": 11,
     "metadata": {},
     "output_type": "execute_result"
    },
    {
     "data": {
      "image/png": "[encoded data removed]",
      "text/plain": [
       "<Figure size 432x288 with 1 Axes>"
      ]
     },
     "metadata": {
      "needs_background": "light"
     },
     "output_type": "display_data"
    }
   ],
   "source": [
    "plt.xlabel(\"W\")\n",
    "plt.ylabel(\"J(W)\")\n",
    "w1_d1 = np.array(w_list_d1)[:,0]\n",
    "w2_d1 = np.array(w_list_d1)[:,1]\n",
    "plt.scatter(w1_d1,cost_list_d1,s=50,label='W0')\n",
    "plt.scatter(w2_d1,cost_list_d1,s=100,marker=\"*\",label='W1')\n",
    "plt.plot(w2_d1,cost_list_d1)\n",
    "plt.plot(w2_d1,cost_list_d1)\n",
    "plt.legend()\n",
    "plt.plot()"
   ]
  },
  {
   "cell_type": "markdown",
   "metadata": {},
   "source": [
    "### 1(c) Plot the hyperplane obtained. In the same figure, plot the output points also.."
   ]
  },
  {
   "cell_type": "code",
   "execution_count": 23,
   "metadata": {
    "scrolled": false
   },
   "outputs": [
    {
     "data": {
      "text/plain": [
       "[]"
      ]
     },
     "execution_count": 23,
     "metadata": {},
     "output_type": "execute_result"
    },
    {
     "data": {
      "image/png": "[encoded data removed]",
      "text/plain": [
       "<Figure size 432x288 with 1 Axes>"
      ]
     },
     "metadata": {
      "needs_background": "light"
     },
     "output_type": "display_data"
    }
   ],
   "source": [
    "hyp_pln = data_1[0]*w_d1+w0_d1\n",
    "plt.plot(data_1[0],hyp_pln,\"g\",label=\"Hyper Plane\")\n",
    "plt.scatter(data_1[0],data_1[1],c = \"r\",s=20 , label=\"Actual output\")\n",
    "plt.legend()\n",
    "plt.plot()"
   ]
  },
  {
   "cell_type": "markdown",
   "metadata": {},
   "source": [
    "\n",
    "### 1(d) Describe the cross validation techniques used."
   ]
  },
  {
   "cell_type": "raw",
   "metadata": {},
   "source": [
    "Referance :\n",
    "            function -->In[11]\n",
    "            Apply on data 1 -->In[12]\n",
    "As mentioned above First I applied Holdout method to split 30 percent of data into test data. The remaing 70 percentage data I considered as train data and to findout optimal hyper parameter I used K fold cross validation of 10 folds , and for each iteration I considered one fold as Test data and remaining k-1 folds as test data.\n",
    "for each learning rate in the range I ran K fold validation K times and calculated Mean error.\n",
    "Then I stored the mean error coresponding to each learning rate in a dictionary and find out which learning rate gives me least error.\n",
    "I used that learing rate and trained the whole x_train o build the model."
   ]
  },
  {
   "cell_type": "markdown",
   "metadata": {},
   "source": [
    "### 1(e) Report the average mean square error and standard deviation"
   ]
  },
  {
   "cell_type": "code",
   "execution_count": 24,
   "metadata": {
    "scrolled": true
   },
   "outputs": [
    {
     "name": "stdout",
     "output_type": "stream",
     "text": [
      "Average MSE FOR DATA 1 :  0.3079746555083303\n",
      "Average MSE FOR DATA 2 :  0.013321692353956806\n",
      "Standard deviation for data_1 :  0.852319146733476\n",
      "Standard deviation for data_2 :  0.00965592461462483\n"
     ]
    }
   ],
   "source": [
    "cost_list_d1 = np.array(cost_list_d1)\n",
    "cost_list_d2 = np.array(cost_list_d2)\n",
    "print(\"Average MSE FOR DATA 1 : \", cost_list_d1.mean())\n",
    "print(\"Average MSE FOR DATA 2 : \", cost_list_d2.mean())\n",
    "\n",
    "print(\"Standard deviation for data_1 : \", cost_list_d1.std())\n",
    "print(\"Standard deviation for data_2 : \", cost_list_d2.std())"
   ]
  },
  {
   "cell_type": "markdown",
   "metadata": {},
   "source": [
    "### 1(f) Report the parameters of the model"
   ]
  },
  {
   "cell_type": "code",
   "execution_count": 25,
   "metadata": {},
   "outputs": [
    {
     "name": "stdout",
     "output_type": "stream",
     "text": [
      "For data 1 Coefficients are : [3.4993796]  and Intercept is : 0.7500210439207416\n",
      "For data 2 Coefficients are : [ 0.45969008 -0.29860415]  and Intercept is : 0.44942888665458974\n"
     ]
    }
   ],
   "source": [
    "print(\"For data 1 Coefficients are :\",w_d1,\" and Intercept is :\",w0_d1)\n",
    "print(\"For data 2 Coefficients are :\",w_d2,\" and Intercept is :\",w0_d2)"
   ]
  }
 ],
 "metadata": {
  "kernelspec": {
   "display_name": "Python 3",
   "language": "python",
   "name": "python3"
  },
  "language_info": {
   "codemirror_mode": {
    "name": "ipython",
    "version": 3
   },
   "file_extension": ".py",
   "mimetype": "text/x-python",
   "name": "python",
   "nbconvert_exporter": "python",
   "pygments_lexer": "ipython3",
   "version": "3.7.6"
  }
 },
 "nbformat": 4,
 "nbformat_minor": 4
}
