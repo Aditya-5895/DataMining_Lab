{
 "cells": [
  {
   "cell_type": "code",
   "execution_count": 1,
   "metadata": {},
   "outputs": [],
   "source": [
    "import numpy as np\n",
    "import pandas as pd\n",
    "import matplotlib.pyplot as plt\n",
    "from sklearn.model_selection import train_test_split"
   ]
  },
  {
   "cell_type": "code",
   "execution_count": 2,
   "metadata": {},
   "outputs": [
    {
     "data": {
      "text/html": [
       "<div>\n",
       "<style scoped>\n",
       "    .dataframe tbody tr th:only-of-type {\n",
       "        vertical-align: middle;\n",
       "    }\n",
       "\n",
       "    .dataframe tbody tr th {\n",
       "        vertical-align: top;\n",
       "    }\n",
       "\n",
       "    .dataframe thead th {\n",
       "        text-align: right;\n",
       "    }\n",
       "</style>\n",
       "<table border=\"1\" class=\"dataframe\">\n",
       "  <thead>\n",
       "    <tr style=\"text-align: right;\">\n",
       "      <th></th>\n",
       "      <th>Unnamed: 0</th>\n",
       "      <th>0</th>\n",
       "      <th>1</th>\n",
       "      <th>2</th>\n",
       "    </tr>\n",
       "  </thead>\n",
       "  <tbody>\n",
       "    <tr>\n",
       "      <th>0</th>\n",
       "      <td>0</td>\n",
       "      <td>-0.744863</td>\n",
       "      <td>-0.914015</td>\n",
       "      <td>-1.815700</td>\n",
       "    </tr>\n",
       "    <tr>\n",
       "      <th>1</th>\n",
       "      <td>1</td>\n",
       "      <td>0.039325</td>\n",
       "      <td>1.064930</td>\n",
       "      <td>-1.587150</td>\n",
       "    </tr>\n",
       "    <tr>\n",
       "      <th>2</th>\n",
       "      <td>2</td>\n",
       "      <td>-0.407660</td>\n",
       "      <td>0.397869</td>\n",
       "      <td>-1.909981</td>\n",
       "    </tr>\n",
       "    <tr>\n",
       "      <th>3</th>\n",
       "      <td>3</td>\n",
       "      <td>0.033789</td>\n",
       "      <td>0.967298</td>\n",
       "      <td>-1.014872</td>\n",
       "    </tr>\n",
       "    <tr>\n",
       "      <th>4</th>\n",
       "      <td>4</td>\n",
       "      <td>-0.179156</td>\n",
       "      <td>0.695176</td>\n",
       "      <td>-1.491172</td>\n",
       "    </tr>\n",
       "    <tr>\n",
       "      <th>...</th>\n",
       "      <td>...</td>\n",
       "      <td>...</td>\n",
       "      <td>...</td>\n",
       "      <td>...</td>\n",
       "    </tr>\n",
       "    <tr>\n",
       "      <th>1995</th>\n",
       "      <td>1995</td>\n",
       "      <td>0.398439</td>\n",
       "      <td>-0.292394</td>\n",
       "      <td>1.984417</td>\n",
       "    </tr>\n",
       "    <tr>\n",
       "      <th>1996</th>\n",
       "      <td>1996</td>\n",
       "      <td>0.990135</td>\n",
       "      <td>0.141825</td>\n",
       "      <td>2.818675</td>\n",
       "    </tr>\n",
       "    <tr>\n",
       "      <th>1997</th>\n",
       "      <td>1997</td>\n",
       "      <td>0.238568</td>\n",
       "      <td>-0.284869</td>\n",
       "      <td>1.386192</td>\n",
       "    </tr>\n",
       "    <tr>\n",
       "      <th>1998</th>\n",
       "      <td>1998</td>\n",
       "      <td>-0.006532</td>\n",
       "      <td>-0.993170</td>\n",
       "      <td>1.481348</td>\n",
       "    </tr>\n",
       "    <tr>\n",
       "      <th>1999</th>\n",
       "      <td>1999</td>\n",
       "      <td>-3.003015</td>\n",
       "      <td>-3.628169</td>\n",
       "      <td>-4.825869</td>\n",
       "    </tr>\n",
       "  </tbody>\n",
       "</table>\n",
       "<p>2000 rows × 4 columns</p>\n",
       "</div>"
      ],
      "text/plain": [
       "      Unnamed: 0         0         1         2\n",
       "0              0 -0.744863 -0.914015 -1.815700\n",
       "1              1  0.039325  1.064930 -1.587150\n",
       "2              2 -0.407660  0.397869 -1.909981\n",
       "3              3  0.033789  0.967298 -1.014872\n",
       "4              4 -0.179156  0.695176 -1.491172\n",
       "...          ...       ...       ...       ...\n",
       "1995        1995  0.398439 -0.292394  1.984417\n",
       "1996        1996  0.990135  0.141825  2.818675\n",
       "1997        1997  0.238568 -0.284869  1.386192\n",
       "1998        1998 -0.006532 -0.993170  1.481348\n",
       "1999        1999 -3.003015 -3.628169 -4.825869\n",
       "\n",
       "[2000 rows x 4 columns]"
      ]
     },
     "execution_count": 2,
     "metadata": {},
     "output_type": "execute_result"
    }
   ],
   "source": [
    "df = pd.read_csv(\"Data2.csv\")\n",
    "df"
   ]
  },
  {
   "cell_type": "code",
   "execution_count": 3,
   "metadata": {
    "scrolled": false
   },
   "outputs": [],
   "source": [
    "df = df.drop(\"Unnamed: 0\",axis=1)\n",
    "df = df.dropna(axis=0)\n",
    "df.columns = [0,1,2]"
   ]
  },
  {
   "cell_type": "code",
   "execution_count": 4,
   "metadata": {},
   "outputs": [
    {
     "data": {
      "text/html": [
       "<div>\n",
       "<style scoped>\n",
       "    .dataframe tbody tr th:only-of-type {\n",
       "        vertical-align: middle;\n",
       "    }\n",
       "\n",
       "    .dataframe tbody tr th {\n",
       "        vertical-align: top;\n",
       "    }\n",
       "\n",
       "    .dataframe thead th {\n",
       "        text-align: right;\n",
       "    }\n",
       "</style>\n",
       "<table border=\"1\" class=\"dataframe\">\n",
       "  <thead>\n",
       "    <tr style=\"text-align: right;\">\n",
       "      <th></th>\n",
       "      <th>0</th>\n",
       "      <th>1</th>\n",
       "      <th>2</th>\n",
       "    </tr>\n",
       "  </thead>\n",
       "  <tbody>\n",
       "    <tr>\n",
       "      <th>0</th>\n",
       "      <td>-0.744863</td>\n",
       "      <td>-0.914015</td>\n",
       "      <td>-1.815700</td>\n",
       "    </tr>\n",
       "    <tr>\n",
       "      <th>1</th>\n",
       "      <td>0.039325</td>\n",
       "      <td>1.064930</td>\n",
       "      <td>-1.587150</td>\n",
       "    </tr>\n",
       "    <tr>\n",
       "      <th>2</th>\n",
       "      <td>-0.407660</td>\n",
       "      <td>0.397869</td>\n",
       "      <td>-1.909981</td>\n",
       "    </tr>\n",
       "    <tr>\n",
       "      <th>3</th>\n",
       "      <td>0.033789</td>\n",
       "      <td>0.967298</td>\n",
       "      <td>-1.014872</td>\n",
       "    </tr>\n",
       "    <tr>\n",
       "      <th>4</th>\n",
       "      <td>-0.179156</td>\n",
       "      <td>0.695176</td>\n",
       "      <td>-1.491172</td>\n",
       "    </tr>\n",
       "    <tr>\n",
       "      <th>...</th>\n",
       "      <td>...</td>\n",
       "      <td>...</td>\n",
       "      <td>...</td>\n",
       "    </tr>\n",
       "    <tr>\n",
       "      <th>1995</th>\n",
       "      <td>0.398439</td>\n",
       "      <td>-0.292394</td>\n",
       "      <td>1.984417</td>\n",
       "    </tr>\n",
       "    <tr>\n",
       "      <th>1996</th>\n",
       "      <td>0.990135</td>\n",
       "      <td>0.141825</td>\n",
       "      <td>2.818675</td>\n",
       "    </tr>\n",
       "    <tr>\n",
       "      <th>1997</th>\n",
       "      <td>0.238568</td>\n",
       "      <td>-0.284869</td>\n",
       "      <td>1.386192</td>\n",
       "    </tr>\n",
       "    <tr>\n",
       "      <th>1998</th>\n",
       "      <td>-0.006532</td>\n",
       "      <td>-0.993170</td>\n",
       "      <td>1.481348</td>\n",
       "    </tr>\n",
       "    <tr>\n",
       "      <th>1999</th>\n",
       "      <td>-3.003015</td>\n",
       "      <td>-3.628169</td>\n",
       "      <td>-4.825869</td>\n",
       "    </tr>\n",
       "  </tbody>\n",
       "</table>\n",
       "<p>2000 rows × 3 columns</p>\n",
       "</div>"
      ],
      "text/plain": [
       "             0         1         2\n",
       "0    -0.744863 -0.914015 -1.815700\n",
       "1     0.039325  1.064930 -1.587150\n",
       "2    -0.407660  0.397869 -1.909981\n",
       "3     0.033789  0.967298 -1.014872\n",
       "4    -0.179156  0.695176 -1.491172\n",
       "...        ...       ...       ...\n",
       "1995  0.398439 -0.292394  1.984417\n",
       "1996  0.990135  0.141825  2.818675\n",
       "1997  0.238568 -0.284869  1.386192\n",
       "1998 -0.006532 -0.993170  1.481348\n",
       "1999 -3.003015 -3.628169 -4.825869\n",
       "\n",
       "[2000 rows x 3 columns]"
      ]
     },
     "execution_count": 4,
     "metadata": {},
     "output_type": "execute_result"
    }
   ],
   "source": [
    "df"
   ]
  },
  {
   "cell_type": "code",
   "execution_count": 5,
   "metadata": {
    "scrolled": false
   },
   "outputs": [
    {
     "data": {
      "text/html": [
       "<div>\n",
       "<style scoped>\n",
       "    .dataframe tbody tr th:only-of-type {\n",
       "        vertical-align: middle;\n",
       "    }\n",
       "\n",
       "    .dataframe tbody tr th {\n",
       "        vertical-align: top;\n",
       "    }\n",
       "\n",
       "    .dataframe thead th {\n",
       "        text-align: right;\n",
       "    }\n",
       "</style>\n",
       "<table border=\"1\" class=\"dataframe\">\n",
       "  <thead>\n",
       "    <tr style=\"text-align: right;\">\n",
       "      <th></th>\n",
       "      <th>0</th>\n",
       "      <th>1</th>\n",
       "      <th>2</th>\n",
       "    </tr>\n",
       "  </thead>\n",
       "  <tbody>\n",
       "    <tr>\n",
       "      <th>count</th>\n",
       "      <td>2000.000000</td>\n",
       "      <td>2000.000000</td>\n",
       "      <td>2000.000000</td>\n",
       "    </tr>\n",
       "    <tr>\n",
       "      <th>mean</th>\n",
       "      <td>0.202367</td>\n",
       "      <td>0.161304</td>\n",
       "      <td>0.277330</td>\n",
       "    </tr>\n",
       "    <tr>\n",
       "      <th>std</th>\n",
       "      <td>1.729529</td>\n",
       "      <td>2.264428</td>\n",
       "      <td>2.666641</td>\n",
       "    </tr>\n",
       "    <tr>\n",
       "      <th>min</th>\n",
       "      <td>-4.295129</td>\n",
       "      <td>-4.884770</td>\n",
       "      <td>-6.986776</td>\n",
       "    </tr>\n",
       "    <tr>\n",
       "      <th>25%</th>\n",
       "      <td>-1.037155</td>\n",
       "      <td>-1.763225</td>\n",
       "      <td>-1.703328</td>\n",
       "    </tr>\n",
       "    <tr>\n",
       "      <th>50%</th>\n",
       "      <td>0.103457</td>\n",
       "      <td>0.167902</td>\n",
       "      <td>0.345993</td>\n",
       "    </tr>\n",
       "    <tr>\n",
       "      <th>75%</th>\n",
       "      <td>1.503105</td>\n",
       "      <td>2.154431</td>\n",
       "      <td>2.031948</td>\n",
       "    </tr>\n",
       "    <tr>\n",
       "      <th>max</th>\n",
       "      <td>4.530722</td>\n",
       "      <td>4.993422</td>\n",
       "      <td>7.275012</td>\n",
       "    </tr>\n",
       "  </tbody>\n",
       "</table>\n",
       "</div>"
      ],
      "text/plain": [
       "                 0            1            2\n",
       "count  2000.000000  2000.000000  2000.000000\n",
       "mean      0.202367     0.161304     0.277330\n",
       "std       1.729529     2.264428     2.666641\n",
       "min      -4.295129    -4.884770    -6.986776\n",
       "25%      -1.037155    -1.763225    -1.703328\n",
       "50%       0.103457     0.167902     0.345993\n",
       "75%       1.503105     2.154431     2.031948\n",
       "max       4.530722     4.993422     7.275012"
      ]
     },
     "execution_count": 5,
     "metadata": {},
     "output_type": "execute_result"
    }
   ],
   "source": [
    "df.describe()"
   ]
  },
  {
   "cell_type": "code",
   "execution_count": 8,
   "metadata": {
    "scrolled": false
   },
   "outputs": [
    {
     "data": {
      "text/plain": [
       "[<matplotlib.lines.Line2D at 0x78c5703b08>]"
      ]
     },
     "execution_count": 8,
     "metadata": {},
     "output_type": "execute_result"
    },
    {
     "data": {
      "image/png": "[encoded data removed]",
      "text/plain": [
       "<Figure size 432x288 with 1 Axes>"
      ]
     },
     "metadata": {
      "needs_background": "light"
     },
     "output_type": "display_data"
    }
   ],
   "source": [
    "plt.plot(df[0])\n",
    "plt.plot(df[1])\n",
    "plt.plot(df[2])"
   ]
  },
  {
   "cell_type": "code",
   "execution_count": 44,
   "metadata": {},
   "outputs": [],
   "source": [
    "class ICA:\n",
    "    def __init__(self,dim):\n",
    "        self.w = np.random.randn(dim,dim)\n",
    "    \n",
    "    def normalise(self,X):\n",
    "        for i in X:\n",
    "            X[i] = (X[i]-X[i].mean())/X[i].std()\n",
    "        return np.array(X)\n",
    "    \n",
    "    def sigmoid(self,x):\n",
    "        return 1/np.exp(-x)\n",
    "    \n",
    "    def fit(self,x,batch_size=100,iteration=100,alpha = 0.01):\n",
    "        w = self.w\n",
    "        self.sample,self.feature = x.shape\n",
    "        for i in range(iteration):\n",
    "            idx = np.random.randint(0,self.sample-1,batch_size)\n",
    "            x_s = x[idx]\n",
    "            for j in x_s:\n",
    "                db = 1 - (2 * self.sigmoid(np.dot(self.w,j.T)))\n",
    "                w = w + alpha*(np.dot(db,j) + np.linalg.inv(w).T)\n",
    "        self.w = w\n",
    "        \n",
    "    def recon_source(self,x):\n",
    "        x = np.array(x)\n",
    "        source = np.dot(self.w,x.T).T\n",
    "        return source"
   ]
  },
  {
   "cell_type": "code",
   "execution_count": 45,
   "metadata": {},
   "outputs": [],
   "source": [
    "model = ICA(3)\n",
    "x_n = model.normalise(df)"
   ]
  },
  {
   "cell_type": "code",
   "execution_count": 46,
   "metadata": {},
   "outputs": [],
   "source": [
    "model.fit(x_n,100,100,1)"
   ]
  },
  {
   "cell_type": "code",
   "execution_count": 47,
   "metadata": {},
   "outputs": [
    {
     "data": {
      "text/html": [
       "<div>\n",
       "<style scoped>\n",
       "    .dataframe tbody tr th:only-of-type {\n",
       "        vertical-align: middle;\n",
       "    }\n",
       "\n",
       "    .dataframe tbody tr th {\n",
       "        vertical-align: top;\n",
       "    }\n",
       "\n",
       "    .dataframe thead th {\n",
       "        text-align: right;\n",
       "    }\n",
       "</style>\n",
       "<table border=\"1\" class=\"dataframe\">\n",
       "  <thead>\n",
       "    <tr style=\"text-align: right;\">\n",
       "      <th></th>\n",
       "      <th>0</th>\n",
       "      <th>1</th>\n",
       "      <th>2</th>\n",
       "    </tr>\n",
       "  </thead>\n",
       "  <tbody>\n",
       "    <tr>\n",
       "      <th>0</th>\n",
       "      <td>-0.547681</td>\n",
       "      <td>-0.474874</td>\n",
       "      <td>-0.784894</td>\n",
       "    </tr>\n",
       "    <tr>\n",
       "      <th>1</th>\n",
       "      <td>-0.094270</td>\n",
       "      <td>0.399053</td>\n",
       "      <td>-0.699187</td>\n",
       "    </tr>\n",
       "    <tr>\n",
       "      <th>2</th>\n",
       "      <td>-0.352713</td>\n",
       "      <td>0.104470</td>\n",
       "      <td>-0.820250</td>\n",
       "    </tr>\n",
       "    <tr>\n",
       "      <th>3</th>\n",
       "      <td>-0.097471</td>\n",
       "      <td>0.355937</td>\n",
       "      <td>-0.484580</td>\n",
       "    </tr>\n",
       "    <tr>\n",
       "      <th>4</th>\n",
       "      <td>-0.220594</td>\n",
       "      <td>0.235765</td>\n",
       "      <td>-0.663195</td>\n",
       "    </tr>\n",
       "  </tbody>\n",
       "</table>\n",
       "</div>"
      ],
      "text/plain": [
       "          0         1         2\n",
       "0 -0.547681 -0.474874 -0.784894\n",
       "1 -0.094270  0.399053 -0.699187\n",
       "2 -0.352713  0.104470 -0.820250\n",
       "3 -0.097471  0.355937 -0.484580\n",
       "4 -0.220594  0.235765 -0.663195"
      ]
     },
     "execution_count": 47,
     "metadata": {},
     "output_type": "execute_result"
    }
   ],
   "source": [
    "df.head()"
   ]
  },
  {
   "cell_type": "code",
   "execution_count": 48,
   "metadata": {
    "scrolled": false
   },
   "outputs": [
    {
     "data": {
      "text/plain": [
       "array([[-453809.93357587, -453658.29672034, -453792.5136501 ],\n",
       "       [-453789.4644244 , -453804.43166488, -453657.39645323],\n",
       "       [-453655.69544549, -453785.47649964, -453805.09320857]])"
      ]
     },
     "execution_count": 48,
     "metadata": {},
     "output_type": "execute_result"
    }
   ],
   "source": [
    "model.w"
   ]
  },
  {
   "cell_type": "code",
   "execution_count": 49,
   "metadata": {},
   "outputs": [],
   "source": [
    "s = model.recon_source(df)"
   ]
  },
  {
   "cell_type": "code",
   "execution_count": 50,
   "metadata": {
    "scrolled": true
   },
   "outputs": [
    {
     "data": {
      "text/html": [
       "<div>\n",
       "<style scoped>\n",
       "    .dataframe tbody tr th:only-of-type {\n",
       "        vertical-align: middle;\n",
       "    }\n",
       "\n",
       "    .dataframe tbody tr th {\n",
       "        vertical-align: top;\n",
       "    }\n",
       "\n",
       "    .dataframe thead th {\n",
       "        text-align: right;\n",
       "    }\n",
       "</style>\n",
       "<table border=\"1\" class=\"dataframe\">\n",
       "  <thead>\n",
       "    <tr style=\"text-align: right;\">\n",
       "      <th></th>\n",
       "      <th>0</th>\n",
       "      <th>1</th>\n",
       "      <th>2</th>\n",
       "    </tr>\n",
       "  </thead>\n",
       "  <tbody>\n",
       "    <tr>\n",
       "      <th>0</th>\n",
       "      <td>8.201528e+05</td>\n",
       "      <td>8.201049e+05</td>\n",
       "      <td>8.201386e+05</td>\n",
       "    </tr>\n",
       "    <tr>\n",
       "      <th>1</th>\n",
       "      <td>1.790326e+05</td>\n",
       "      <td>1.788779e+05</td>\n",
       "      <td>1.789761e+05</td>\n",
       "    </tr>\n",
       "    <tr>\n",
       "      <th>2</th>\n",
       "      <td>4.848940e+05</td>\n",
       "      <td>4.847607e+05</td>\n",
       "      <td>4.848366e+05</td>\n",
       "    </tr>\n",
       "    <tr>\n",
       "      <th>3</th>\n",
       "      <td>1.026582e+05</td>\n",
       "      <td>1.025387e+05</td>\n",
       "      <td>1.026040e+05</td>\n",
       "    </tr>\n",
       "    <tr>\n",
       "      <th>4</th>\n",
       "      <td>2.941038e+05</td>\n",
       "      <td>2.939752e+05</td>\n",
       "      <td>2.940481e+05</td>\n",
       "    </tr>\n",
       "    <tr>\n",
       "      <th>...</th>\n",
       "      <td>...</td>\n",
       "      <td>...</td>\n",
       "      <td>...</td>\n",
       "    </tr>\n",
       "    <tr>\n",
       "      <th>1995</th>\n",
       "      <td>-2.510545e+05</td>\n",
       "      <td>-2.509364e+05</td>\n",
       "      <td>-2.510196e+05</td>\n",
       "    </tr>\n",
       "    <tr>\n",
       "      <th>1996</th>\n",
       "      <td>-6.352701e+05</td>\n",
       "      <td>-6.351308e+05</td>\n",
       "      <td>-6.352107e+05</td>\n",
       "    </tr>\n",
       "    <tr>\n",
       "      <th>1997</th>\n",
       "      <td>-1.088114e+05</td>\n",
       "      <td>-1.087260e+05</td>\n",
       "      <td>-1.087883e+05</td>\n",
       "    </tr>\n",
       "    <tr>\n",
       "      <th>1998</th>\n",
       "      <td>8.120910e+04</td>\n",
       "      <td>8.134213e+04</td>\n",
       "      <td>8.124963e+04</td>\n",
       "    </tr>\n",
       "    <tr>\n",
       "      <th>1999</th>\n",
       "      <td>2.468677e+06</td>\n",
       "      <td>2.468625e+06</td>\n",
       "      <td>2.468628e+06</td>\n",
       "    </tr>\n",
       "  </tbody>\n",
       "</table>\n",
       "<p>2000 rows × 3 columns</p>\n",
       "</div>"
      ],
      "text/plain": [
       "                 0             1             2\n",
       "0     8.201528e+05  8.201049e+05  8.201386e+05\n",
       "1     1.790326e+05  1.788779e+05  1.789761e+05\n",
       "2     4.848940e+05  4.847607e+05  4.848366e+05\n",
       "3     1.026582e+05  1.025387e+05  1.026040e+05\n",
       "4     2.941038e+05  2.939752e+05  2.940481e+05\n",
       "...            ...           ...           ...\n",
       "1995 -2.510545e+05 -2.509364e+05 -2.510196e+05\n",
       "1996 -6.352701e+05 -6.351308e+05 -6.352107e+05\n",
       "1997 -1.088114e+05 -1.087260e+05 -1.087883e+05\n",
       "1998  8.120910e+04  8.134213e+04  8.124963e+04\n",
       "1999  2.468677e+06  2.468625e+06  2.468628e+06\n",
       "\n",
       "[2000 rows x 3 columns]"
      ]
     },
     "execution_count": 50,
     "metadata": {},
     "output_type": "execute_result"
    }
   ],
   "source": [
    "s = pd.DataFrame(s)\n",
    "# s = model.normalise(s)\n",
    "s"
   ]
  },
  {
   "cell_type": "code",
   "execution_count": 42,
   "metadata": {
    "scrolled": true
   },
   "outputs": [
    {
     "data": {
      "text/plain": [
       "[<matplotlib.lines.Line2D at 0x78c8994448>]"
      ]
     },
     "execution_count": 42,
     "metadata": {},
     "output_type": "execute_result"
    },
    {
     "data": {
      "image/png": "[encoded data removed]",
      "text/plain": [
       "<Figure size 432x288 with 1 Axes>"
      ]
     },
     "metadata": {
      "needs_background": "light"
     },
     "output_type": "display_data"
    }
   ],
   "source": [
    "plt.plot(s[0],c=\"r\")"
   ]
  },
  {
   "cell_type": "code",
   "execution_count": 43,
   "metadata": {},
   "outputs": [
    {
     "data": {
      "text/plain": [
       "[<matplotlib.lines.Line2D at 0x78c8a0ca88>]"
      ]
     },
     "execution_count": 43,
     "metadata": {},
     "output_type": "execute_result"
    },
    {
     "data": {
      "image/png": "[encoded data removed]",
      "text/plain": [
       "<Figure size 432x288 with 1 Axes>"
      ]
     },
     "metadata": {
      "needs_background": "light"
     },
     "output_type": "display_data"
    }
   ],
   "source": [
    "plt.plot(s[1],c=\"b\")"
   ]
  },
  {
   "cell_type": "code",
   "execution_count": 39,
   "metadata": {},
   "outputs": [
    {
     "data": {
      "text/plain": [
       "[<matplotlib.lines.Line2D at 0x78c78c8e08>]"
      ]
     },
     "execution_count": 39,
     "metadata": {},
     "output_type": "execute_result"
    },
    {
     "data": {
      "image/png": "[encoded data removed]",
      "text/plain": [
       "<Figure size 432x288 with 1 Axes>"
      ]
     },
     "metadata": {
      "needs_background": "light"
     },
     "output_type": "display_data"
    }
   ],
   "source": [
    "plt.plot(s[2])"
   ]
  },
  {
   "cell_type": "code",
   "execution_count": null,
   "metadata": {},
   "outputs": [],
   "source": []
  }
 ],
 "metadata": {
  "kernelspec": {
   "display_name": "Python 3",
   "language": "python",
   "name": "python3"
  },
  "language_info": {
   "codemirror_mode": {
    "name": "ipython",
    "version": 3
   },
   "file_extension": ".py",
   "mimetype": "text/x-python",
   "name": "python",
   "nbconvert_exporter": "python",
   "pygments_lexer": "ipython3",
   "version": "3.7.6"
  }
 },
 "nbformat": 4,
 "nbformat_minor": 4
}
